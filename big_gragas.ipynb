{
  "nbformat": 4,
  "nbformat_minor": 0,
  "metadata": {
    "colab": {
      "provenance": [],
      "authorship_tag": "ABX9TyPnFSQdmdt4/Rl/4A6LqPH/",
      "include_colab_link": true
    },
    "kernelspec": {
      "name": "python3",
      "display_name": "Python 3"
    },
    "language_info": {
      "name": "python"
    }
  },
  "cells": [
    {
      "cell_type": "markdown",
      "metadata": {
        "id": "view-in-github",
        "colab_type": "text"
      },
      "source": [
        "<a href=\"https://colab.research.google.com/github/ilyasoulk/big-gragas/blob/main/big_gragas.ipynb\" target=\"_parent\"><img src=\"https://colab.research.google.com/assets/colab-badge.svg\" alt=\"Open In Colab\"/></a>"
      ]
    },
    {
      "cell_type": "code",
      "execution_count": 4,
      "metadata": {
        "id": "1_25NQH7UaSi"
      },
      "outputs": [],
      "source": [
        "import os\n",
        "import datetime\n",
        "import dateutil\n",
        "import tarfile\n",
        "import requests\n",
        "import pandas as pd\n",
        "import pandas.io.sql as sqlio\n",
        "\n",
        "%matplotlib inline"
      ]
    },
    {
      "cell_type": "code",
      "source": [
        "stream = requests.get('https://www.lrde.epita.fr/~ricou/pybd/projet/boursorama2020.tgz', stream=True)\n"
      ],
      "metadata": {
        "id": "BwesdjwsWboc"
      },
      "execution_count": 7,
      "outputs": []
    },
    {
      "cell_type": "code",
      "source": [
        "tarfile.open(fileobj=stream.raw, mode='r|gz').extractall('.') # try 'r:gz' if there is an error"
      ],
      "metadata": {
        "id": "7icVBg65W0Si"
      },
      "execution_count": 8,
      "outputs": []
    },
    {
      "cell_type": "code",
      "source": [
        "os.listdir('2020')[:5]"
      ],
      "metadata": {
        "colab": {
          "base_uri": "https://localhost:8080/"
        },
        "id": "G3APBSHzZP9b",
        "outputId": "e36d5748-974f-4cc0-a203-bf3a6b1b0150"
      },
      "execution_count": 12,
      "outputs": [
        {
          "output_type": "execute_result",
          "data": {
            "text/plain": [
              "['mercados 2020-10-09 17:41:01.529058',\n",
              " 'amsterdam 2020-12-22 13:51:01.623672',\n",
              " 'compA 2020-04-09 17:22:02.127051',\n",
              " 'compB 2020-08-21 17:11:01.677186',\n",
              " 'xetra 2020-06-24 09:31:01.414802']"
            ]
          },
          "metadata": {},
          "execution_count": 12
        }
      ]
    },
    {
      "cell_type": "markdown",
      "source": [],
      "metadata": {
        "id": "fiYUeUVaVy7R"
      }
    }
  ]
}