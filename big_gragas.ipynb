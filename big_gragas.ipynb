{
  "nbformat": 4,
  "nbformat_minor": 0,
  "metadata": {
    "colab": {
      "provenance": [],
      "authorship_tag": "ABX9TyPsZiFYArkGlAg0Tz/21heV",
      "include_colab_link": true
    },
    "kernelspec": {
      "name": "python3",
      "display_name": "Python 3"
    },
    "language_info": {
      "name": "python"
    }
  },
  "cells": [
    {
      "cell_type": "markdown",
      "metadata": {
        "id": "view-in-github",
        "colab_type": "text"
      },
      "source": [
        "<a href=\"https://colab.research.google.com/github/ilyasoulk/big-gragas/blob/main/big_gragas.ipynb\" target=\"_parent\"><img src=\"https://colab.research.google.com/assets/colab-badge.svg\" alt=\"Open In Colab\"/></a>"
      ]
    },
    {
      "cell_type": "code",
      "execution_count": 3,
      "metadata": {
        "id": "1_25NQH7UaSi"
      },
      "outputs": [],
      "source": [
        "import os\n",
        "import datetime\n",
        "import dateutil\n",
        "import tarfile\n",
        "import requests\n",
        "import pandas as pd\n",
        "import pandas.io.sql as sqlio\n",
        "\n",
        "%matplotlib inline"
      ]
    },
    {
      "cell_type": "code",
      "source": [
        "stream = requests.get('https://www.lrde.epita.fr/~ricou/pybd/projet/boursorama2020.tgz', stream=True)\n"
      ],
      "metadata": {
        "id": "BwesdjwsWboc"
      },
      "execution_count": 7,
      "outputs": []
    },
    {
      "cell_type": "code",
      "source": [
        "tarfile.open(fileobj=stream.raw, mode='r|gz').extractall('.') # try 'r:gz' if there is an error"
      ],
      "metadata": {
        "id": "7icVBg65W0Si"
      },
      "execution_count": 8,
      "outputs": []
    },
    {
      "cell_type": "code",
      "source": [
        "os.listdir('2020')[:10]"
      ],
      "metadata": {
        "colab": {
          "base_uri": "https://localhost:8080/"
        },
        "id": "G3APBSHzZP9b",
        "outputId": "f1d2e3c0-bb48-43c0-f280-56990df8524a"
      },
      "execution_count": 19,
      "outputs": [
        {
          "output_type": "execute_result",
          "data": {
            "text/plain": [
              "['mercados 2020-10-09 17:41:01.529058',\n",
              " 'amsterdam 2020-12-22 13:51:01.623672',\n",
              " 'compA 2020-04-09 17:22:02.127051',\n",
              " 'compB 2020-08-21 17:11:01.677186',\n",
              " 'xetra 2020-06-24 09:31:01.414802',\n",
              " 'compA 2020-07-29 16:21:02.252903',\n",
              " 'compB 2020-02-07 14:42:01.795516',\n",
              " 'bruxelle 2020-01-24 17:02:01.782035',\n",
              " 'compB 2020-06-24 17:01:02.253402',\n",
              " 'xetra 2020-09-11 17:11:01.648289']"
            ]
          },
          "metadata": {},
          "execution_count": 19
        }
      ]
    },
    {
      "cell_type": "code",
      "source": [
        "import glob\n",
        "from dateutil.parser import parse\n",
        "\n",
        "file_paths_compA = glob.glob('2020/compA *')\n",
        "fp_dict_compA = {parse(x.split(' ')[1] + ' ' + x.split(' ')[-1]):pd.read_pickle(x) for x in file_paths_compA}\n",
        "compA = pd.concat(fp_dict_compA)"
      ],
      "metadata": {
        "id": "JMVQeMB8bpPe"
      },
      "execution_count": 4,
      "outputs": []
    },
    {
      "cell_type": "code",
      "source": [
        "# file_paths_compB = glob.glob('2020/compB *')\n",
        "# fp_dict_compB = {parse(x.split(' ')[1] + ' ' + x.split(' ')[-1]):pd.read_pickle(x) for x in file_paths_compB}\n",
        "# compB = pd.concat(fp_dict_compB)"
      ],
      "metadata": {
        "id": "J8dHcILdgE9d"
      },
      "execution_count": 5,
      "outputs": []
    },
    {
      "cell_type": "code",
      "source": [
        "# file_paths_mercados = glob.glob('2020/mercados *')\n",
        "# fp_dict_mercados = {parse(x.split(' ')[1] + ' ' + x.split(' ')[-1]):pd.read_pickle(x) for x in file_paths_mercados}\n",
        "# mercados = pd.concat(fp_dict_mercados)"
      ],
      "metadata": {
        "id": "Naqr7ecEgLoh"
      },
      "execution_count": 6,
      "outputs": []
    },
    {
      "cell_type": "code",
      "source": [
        "# file_paths_amsterdam = glob.glob('2020/amsterdam *')\n",
        "# fp_dict_amsterdam = {parse(x.split(' ')[1] + ' ' + x.split(' ')[-1]):pd.read_pickle(x) for x in file_paths_amsterdam}\n",
        "# amsterdam = pd.concat(fp_dict_amsterdam)"
      ],
      "metadata": {
        "id": "W-4NFuWSgmm1"
      },
      "execution_count": 7,
      "outputs": []
    },
    {
      "cell_type": "code",
      "source": [
        "# file_paths_xetra = glob.glob('2020/xetra *')\n",
        "# fp_dict_xetra = {parse(x.split(' ')[1] + ' ' + x.split(' ')[-1]):pd.read_pickle(x) for x in file_paths_xetra}\n",
        "# xetra = pd.concat(fp_dict_xetra)"
      ],
      "metadata": {
        "id": "epTb59-Agty_"
      },
      "execution_count": null,
      "outputs": []
    },
    {
      "cell_type": "code",
      "source": [
        "# file_paths_bruxelle = glob.glob('2020/bruxelle')\n",
        "# fp_dict_bruxelle = {parse(x.split(' ')[1] + ' ' + x.split(' ')[-1]):pd.read_pickle(x) for x in file_paths_bruxelle}\n",
        "# bruxelle = pd.concat(fp_dict_bruxelle)"
      ],
      "metadata": {
        "id": "aNUvn-8ig0mK"
      },
      "execution_count": null,
      "outputs": []
    },
    {
      "cell_type": "code",
      "source": [],
      "metadata": {
        "id": "xTcF27H0iyro"
      },
      "execution_count": null,
      "outputs": []
    },
    {
      "cell_type": "markdown",
      "source": [],
      "metadata": {
        "id": "fiYUeUVaVy7R"
      }
    }
  ]
}